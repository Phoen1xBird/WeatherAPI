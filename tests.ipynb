{
 "cells": [
  {
   "cell_type": "code",
   "execution_count": 2,
   "id": "9d6c1321",
   "metadata": {},
   "outputs": [
    {
     "data": {
      "text/plain": [
       "True"
      ]
     },
     "execution_count": 2,
     "metadata": {},
     "output_type": "execute_result"
    }
   ],
   "source": [
    "from dotenv import load_dotenv\n",
    "\n",
    "load_dotenv(override=True)"
   ]
  },
  {
   "cell_type": "code",
   "execution_count": 20,
   "id": "730e0c35",
   "metadata": {},
   "outputs": [],
   "source": [
    "import httpx\n",
    "import typing as tp\n",
    "import os\n",
    "\n",
    "class Weather:\n",
    "    API_KEY = os.environ.get(\"OPEN_WEATHER_KEY\")\n",
    "\n",
    "    async def get_weather_by_loc(self, *, lat: float = None, lon: float = None, city: str = None) -> dict[str, tp.Any]:\n",
    "        if lat is not None and lon is not None:\n",
    "            async with httpx.AsyncClient(timeout=20) as client:\n",
    "                resp = await client.get(\"https://api.openweathermap.org/data/2.5/weather\", params={\"lat\": lat, \"lon\": lon, \"appid\": self.API_KEY})\n",
    "                resp.raise_for_status()\n",
    "                print(resp.json())\n",
    "\n",
    "            return resp.json()"
   ]
  },
  {
   "cell_type": "code",
   "execution_count": 21,
   "id": "4a67be92",
   "metadata": {},
   "outputs": [],
   "source": [
    "weather = Weather()"
   ]
  },
  {
   "cell_type": "code",
   "execution_count": 22,
   "id": "f4a463f8",
   "metadata": {},
   "outputs": [
    {
     "name": "stdout",
     "output_type": "stream",
     "text": [
      "{'coord': {'lon': 10.9, 'lat': 44.34}, 'weather': [{'id': 804, 'main': 'Clouds', 'description': 'overcast clouds', 'icon': '04n'}], 'base': 'stations', 'main': {'temp': 285.57, 'feels_like': 285.24, 'temp_min': 283.32, 'temp_max': 286.02, 'pressure': 1008, 'humidity': 91, 'sea_level': 1008, 'grnd_level': 934}, 'visibility': 10000, 'wind': {'speed': 1.04, 'deg': 218, 'gust': 1.47}, 'clouds': {'all': 100}, 'dt': 1761076842, 'sys': {'type': 2, 'id': 2075663, 'country': 'IT', 'sunrise': 1761025128, 'sunset': 1761063774}, 'timezone': 7200, 'id': 3171355, 'name': 'Pavullo nel Frignano', 'cod': 200}\n"
     ]
    }
   ],
   "source": [
    "res = await weather.get_weather_by_loc(lat=44.34, lon=10.9)"
   ]
  },
  {
   "cell_type": "code",
   "execution_count": 25,
   "id": "2c297fdf",
   "metadata": {},
   "outputs": [
    {
     "data": {
      "text/plain": [
       "dict"
      ]
     },
     "execution_count": 25,
     "metadata": {},
     "output_type": "execute_result"
    }
   ],
   "source": [
    "type(res)"
   ]
  },
  {
   "cell_type": "code",
   "execution_count": null,
   "id": "f74e7168",
   "metadata": {},
   "outputs": [],
   "source": []
  }
 ],
 "metadata": {
  "kernelspec": {
   "display_name": "sap",
   "language": "python",
   "name": "python3"
  },
  "language_info": {
   "codemirror_mode": {
    "name": "ipython",
    "version": 3
   },
   "file_extension": ".py",
   "mimetype": "text/x-python",
   "name": "python",
   "nbconvert_exporter": "python",
   "pygments_lexer": "ipython3",
   "version": "3.12.0"
  }
 },
 "nbformat": 4,
 "nbformat_minor": 5
}
